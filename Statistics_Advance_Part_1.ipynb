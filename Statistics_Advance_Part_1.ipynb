{
  "nbformat": 4,
  "nbformat_minor": 0,
  "metadata": {
    "colab": {
      "provenance": []
    },
    "kernelspec": {
      "name": "python3",
      "display_name": "Python 3"
    },
    "language_info": {
      "name": "python"
    }
  },
  "cells": [
    {
      "cell_type": "markdown",
      "source": [
        "**Theory Questions**"
      ],
      "metadata": {
        "id": "UUtbDIFnP18U"
      }
    },
    {
      "cell_type": "markdown",
      "source": [
        "Q1 What is a random variable in probability theory?\n",
        "\n",
        "A random variable is a value that can change randomly when an experiment is performed. It is a way to represent the possible outcomes of a random event using numbers. For example, when tossing a coin, getting heads or tails can be represented as 1 or 0.\n",
        "\n"
      ],
      "metadata": {
        "id": "OJoJOkh-P1_z"
      }
    },
    {
      "cell_type": "markdown",
      "source": [
        "Q2 What are the types of random variables?\n",
        "\n",
        "There are two main types of random variables:\n",
        "\n",
        "Discrete Random Variable: It takes countable values like 0, 1, 2, 3, etc.\n",
        "\n",
        "Continuous Random Variable: It can take any value within a given range like 2.5, 3.14, 7.01, etc."
      ],
      "metadata": {
        "id": "HfcWV4CMQaC5"
      }
    },
    {
      "cell_type": "markdown",
      "source": [
        "Q3 What is the difference between discrete and continuous distributions?\n",
        "\n",
        "A discrete distribution deals with countable outcomes like number of students in a class. A continuous distribution deals with infinite possible values within a range, like the height or weight of students.\n"
      ],
      "metadata": {
        "id": "zEstCIdpQaFr"
      }
    },
    {
      "cell_type": "markdown",
      "source": [
        "Q4 What are probability distribution functions (PDF)?\n",
        "\n",
        "A Probability Distribution Function (PDF) describes how probabilities are distributed over the values of a random variable. For continuous variables, it shows the likelihood of a value lying within a certain range."
      ],
      "metadata": {
        "id": "5bywEkiFQaJK"
      }
    },
    {
      "cell_type": "markdown",
      "source": [
        "Q5 How do cumulative distribution functions (CDF) differ from probability distribution functions (PDF)?\n",
        "\n",
        "A PDF gives the probability of a random variable falling within a range, while a CDF gives the probability that a random variable is less than or equal to a certain value. CDF adds up the probabilities from the PDF.\n",
        "\n",
        "\n"
      ],
      "metadata": {
        "id": "6pqZqiNxQ9dS"
      }
    },
    {
      "cell_type": "markdown",
      "source": [
        "Q6 What is a discrete uniform distribution?\n",
        "\n",
        "A discrete uniform distribution is a distribution where all outcomes have an equal chance of occurring. For example, when rolling a fair dice, each number from 1 to 6 has the same probability of 1/6."
      ],
      "metadata": {
        "id": "AnvCZ7wAQ9gH"
      }
    },
    {
      "cell_type": "markdown",
      "source": [
        "Q7 What are the key properties of a Bernoulli distribution?\n",
        "\n",
        "A Bernoulli distribution has only two possible outcomes: success (1) and failure (0). It is defined by one parameter, p, which is the probability of success. The total probability is always 1.\n"
      ],
      "metadata": {
        "id": "waNPmTDtQ9jp"
      }
    },
    {
      "cell_type": "markdown",
      "source": [
        "Q8 What is the binomial distribution, and how is it used in probability?\n",
        "\n",
        "A binomial distribution shows the number of successes in a fixed number of independent trials, where each trial has two possible outcomes. It is used to find the probability of getting a specific number of successes."
      ],
      "metadata": {
        "id": "AWW5NHg8ROr1"
      }
    },
    {
      "cell_type": "markdown",
      "source": [
        "Q9 What is the Poisson distribution and where is it applied?\n",
        "\n",
        "A Poisson distribution is used to predict how many times an event will happen in a fixed time or area. It is applied when events occur randomly and independently, like the number of phone calls in an hour.\n"
      ],
      "metadata": {
        "id": "se5vQFniROus"
      }
    },
    {
      "cell_type": "markdown",
      "source": [
        "Q10 What is a continuous uniform distribution?\n",
        "\n",
        "A continuous uniform distribution is where all values within a range are equally likely. For example, if a bus arrives between 9:00 and 9:30 AM, every minute within this range has the same chance."
      ],
      "metadata": {
        "id": "9zb13SkXROyH"
      }
    },
    {
      "cell_type": "markdown",
      "source": [
        "Q11 What are the characteristics of a normal distribution?\n",
        "\n",
        "A normal distribution is a bell-shaped, symmetrical curve where most values are around the mean. It is defined by its mean and standard deviation. Many natural and social phenomena follow this pattern.\n"
      ],
      "metadata": {
        "id": "BeCpajIaRZpB"
      }
    },
    {
      "cell_type": "markdown",
      "source": [
        "Q12 What is the standard normal distribution, and why is it important?\n",
        "\n",
        "A standard normal distribution is a normal distribution with a mean of 0 and a standard deviation of 1. It is important because it simplifies calculations and comparisons in statistics using Z-scores."
      ],
      "metadata": {
        "id": "OSLAAAE6RZrw"
      }
    },
    {
      "cell_type": "markdown",
      "source": [
        "Q13 What is the Central Limit Theorem (CLT), and why is it critical in statistics?\n",
        "\n",
        "The Central Limit Theorem states that the distribution of the sample mean will be approximately normal, regardless of the shape of the population, if the sample size is large enough. It is critical because it allows us to make predictions and conduct tests using normal distribution formulas.\n"
      ],
      "metadata": {
        "id": "mdr7BJddRZu3"
      }
    },
    {
      "cell_type": "markdown",
      "source": [
        "Q14 How does the Central Limit Theorem relate to the normal distribution?\n",
        "\n",
        "The Central Limit Theorem explains why many things follow a normal distribution when measured in large samples. Even if the original data is not normal, the averages of large samples will be nearly normal."
      ],
      "metadata": {
        "id": "CDLk_kQrRZyb"
      }
    },
    {
      "cell_type": "markdown",
      "source": [
        "Q15 What is the application of Z statistics in hypothesis testing?\n",
        "\n",
        "In hypothesis testing, Z statistics helps to determine whether to accept or reject a hypothesis. It measures how many standard deviations a data point is from the mean, making it easier to make decisions.\n"
      ],
      "metadata": {
        "id": "sgtfJLbtRrRH"
      }
    },
    {
      "cell_type": "markdown",
      "source": [
        "Q16 How do you calculate a Z-score, and what does it represent?\n",
        "\n",
        "A Z-score is calculated by subtracting the mean from a data point and dividing by the standard deviation. It shows how far and in what direction a data point is from the average in terms of standard deviations."
      ],
      "metadata": {
        "id": "HYUM62UMRrUW"
      }
    },
    {
      "cell_type": "markdown",
      "source": [
        "Q17 What are point estimates and interval estimates in statistics?\n",
        "\n",
        "A point estimate gives a single value as an estimate of a population parameter (like a sample mean).\n",
        "An interval estimate gives a range of values (like a confidence interval) which is likely to include the population parameter.\n"
      ],
      "metadata": {
        "id": "P6v3m-4MRypw"
      }
    },
    {
      "cell_type": "markdown",
      "source": [
        "Q18 What is the significance of confidence intervals in statistical analysis?\n",
        "\n",
        "A confidence interval gives a range of values within which the true population parameter is expected to lie. It also shows how certain we are about our estimate by attaching a percentage like 95% confidence level."
      ],
      "metadata": {
        "id": "O7J7OcYnRytF"
      }
    },
    {
      "cell_type": "markdown",
      "source": [
        "Q19 What is the relationship between a Z-score and a confidence interval?\n",
        "\n",
        "A Z-score is used to calculate the limits of a confidence interval. Higher Z-scores correspond to wider confidence intervals and greater confidence levels.\n"
      ],
      "metadata": {
        "id": "zhFTofbaR6wF"
      }
    },
    {
      "cell_type": "markdown",
      "source": [
        "Q20 How are Z-scores used to compare different distributions?\n",
        "\n",
        "Z-scores convert different data points from different distributions into a common scale. This makes it easier to compare values from different datasets by seeing how far each value is from its own mean."
      ],
      "metadata": {
        "id": "SSrl4MCcR6zY"
      }
    },
    {
      "cell_type": "markdown",
      "source": [
        "Q21 What are the assumptions for applying the Central Limit Theorem?\n",
        "\n",
        "The assumptions are:\n",
        "\n",
        "The sample size should be large (usually n > 30).\n",
        "\n",
        "Samples should be independent.\n",
        "\n",
        "Data should be randomly selected.\n",
        "\n",
        "If the population is not normal, a larger sample size is required.\n"
      ],
      "metadata": {
        "id": "MNeGx6qJSGxl"
      }
    },
    {
      "cell_type": "markdown",
      "source": [
        "Q22 What is the concept of expected value in a probability distribution?\n",
        "\n",
        "The expected value is the average value we expect to get if we repeat an experiment many times. It is calculated by multiplying each possible value by its probability and adding them together."
      ],
      "metadata": {
        "id": "OBXofJLBSG01"
      }
    },
    {
      "cell_type": "markdown",
      "source": [
        "Q23 How does a probability distribution relate to the expected outcome of a random variable?\n",
        "\n",
        "A probability distribution shows all possible outcomes and their probabilities. It helps to predict the expected outcome (average result) of a random variable by considering all outcomes and their chances."
      ],
      "metadata": {
        "id": "7-uSd4FBSHCk"
      }
    }
  ]
}